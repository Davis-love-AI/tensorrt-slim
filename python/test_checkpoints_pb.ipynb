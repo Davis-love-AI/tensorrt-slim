{
 "cells": [
  {
   "cell_type": "code",
   "execution_count": 1,
   "metadata": {},
   "outputs": [],
   "source": [
    "from __future__ import absolute_import\n",
    "from __future__ import division\n",
    "from __future__ import print_function\n",
    "\n",
    "import os\n",
    "import sys\n",
    "\n",
    "import numpy as np\n",
    "import tensorflow as tf\n",
    "\n",
    "import network_pb2\n",
    "import ssd_network_pb2\n",
    "import export_tfrt_network_weights as tfrt_export"
   ]
  },
  {
   "cell_type": "code",
   "execution_count": null,
   "metadata": {
    "collapsed": true
   },
   "outputs": [],
   "source": []
  },
  {
   "cell_type": "markdown",
   "metadata": {},
   "source": [
    "# SSD checkpoints\n",
    "\n",
    "Open and try stuff! See if the data is here!"
   ]
  },
  {
   "cell_type": "code",
   "execution_count": 2,
   "metadata": {
    "collapsed": true
   },
   "outputs": [],
   "source": [
    "pb_ssd_net = ssd_network_pb2.ssd_network()"
   ]
  },
  {
   "cell_type": "code",
   "execution_count": 3,
   "metadata": {},
   "outputs": [],
   "source": [
    "filename = '../data/networks/ssd_inception2_v0_orig.tfrt32'\n",
    "with open(filename, 'rb') as f:\n",
    "    pb_ssd_net.ParseFromString(f.read())"
   ]
  },
  {
   "cell_type": "code",
   "execution_count": 12,
   "metadata": {},
   "outputs": [
    {
     "data": {
      "text/plain": [
       "name: \"block6\"\n",
       "fullname: \"block6\"\n",
       "shape {\n",
       "  c: 512\n",
       "  h: 5\n",
       "  w: 5\n",
       "}\n",
       "anchors2d {\n",
       "  size: 150.0\n",
       "  scales: 1.0\n",
       "}\n",
       "anchors2d {\n",
       "  size: 171.0260009765625\n",
       "  scales: 1.0\n",
       "}\n",
       "anchors2d {\n",
       "  size: 150.0\n",
       "  scales: 2.0\n",
       "  scales: 0.5\n",
       "  scales: 3.0\n",
       "  scales: 0.3333333432674408\n",
       "}\n",
       "prior_scaling {\n",
       "  y: 0.10000000149011612\n",
       "  x: 0.10000000149011612\n",
       "  h: 0.20000000298023224\n",
       "  w: 0.20000000298023224\n",
       "}"
      ]
     },
     "execution_count": 12,
     "metadata": {},
     "output_type": "execute_result"
    }
   ],
   "source": [
    "pb_ssd_net.features[2]"
   ]
  },
  {
   "cell_type": "code",
   "execution_count": null,
   "metadata": {
    "collapsed": true
   },
   "outputs": [],
   "source": []
  }
 ],
 "metadata": {
  "kernelspec": {
   "display_name": "Python [conda root]",
   "language": "python",
   "name": "conda-root-py"
  },
  "language_info": {
   "codemirror_mode": {
    "name": "ipython",
    "version": 3
   },
   "file_extension": ".py",
   "mimetype": "text/x-python",
   "name": "python",
   "nbconvert_exporter": "python",
   "pygments_lexer": "ipython3",
   "version": "3.5.3"
  }
 },
 "nbformat": 4,
 "nbformat_minor": 2
}
